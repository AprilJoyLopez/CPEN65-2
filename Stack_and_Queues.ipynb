{
  "nbformat": 4,
  "nbformat_minor": 0,
  "metadata": {
    "colab": {
      "provenance": [],
      "authorship_tag": "ABX9TyObVG8wN12lD5PF005hKjpb",
      "include_colab_link": true
    },
    "kernelspec": {
      "name": "python3",
      "display_name": "Python 3"
    },
    "language_info": {
      "name": "python"
    }
  },
  "cells": [
    {
      "cell_type": "markdown",
      "metadata": {
        "id": "view-in-github",
        "colab_type": "text"
      },
      "source": [
        "<a href=\"https://colab.research.google.com/github/AprilJoyLopez/CPEN65-2/blob/main/Stack_and_Queues.ipynb\" target=\"_parent\"><img src=\"https://colab.research.google.com/assets/colab-badge.svg\" alt=\"Open In Colab\"/></a>"
      ]
    },
    {
      "cell_type": "code",
      "source": [
        "#STACK\n",
        "\n",
        "class Stack:\n",
        "  def __init__(self):\n",
        "    self.stack = []     #empty stack\n",
        "  \n",
        "  def push(self,dataval):\n",
        "    if dataval not in self.stack:\n",
        "      return self.stack.append(dataval)\n",
        "    else:\n",
        "      return False\n",
        "  def pop(self):\n",
        "    if len(self.stack)<=0:\n",
        "      return \"Stack is empty\"\n",
        "    else:\n",
        "      return self.stack.pop()\n",
        "\n",
        "AStack = Stack()\n",
        "AStack.push(1)\n",
        "AStack.push(2)\n",
        "AStack.push(3)\n",
        "\n",
        "print(AStack.stack)\n",
        "\n",
        "AStack.pop()\n",
        "print(AStack.stack)\n",
        "AStack.pop()\n",
        "print(AStack.stack)\n",
        "AStack.pop()\n",
        "print(AStack.stack)"
      ],
      "metadata": {
        "colab": {
          "base_uri": "https://localhost:8080/"
        },
        "id": "hg_HZn0RUFG2",
        "outputId": "9d610f57-d0f6-4a91-ef65-bb7b8855179c"
      },
      "execution_count": null,
      "outputs": [
        {
          "output_type": "stream",
          "name": "stdout",
          "text": [
            "[1, 2, 3]\n",
            "[1, 2]\n",
            "[1]\n",
            "[]\n"
          ]
        }
      ]
    },
    {
      "cell_type": "code",
      "source": [
        "#for reference\n",
        "array = [1,2,3]\n",
        "x=array.append"
      ],
      "metadata": {
        "id": "MMrILZcbFMfa"
      },
      "execution_count": null,
      "outputs": []
    },
    {
      "cell_type": "code",
      "source": [
        "#Queues\n",
        "\n",
        "#Application 1\n",
        "#Impelement the above program by Queues Data Structure (enqueue and dequeue/FIFO principle) "
      ],
      "metadata": {
        "id": "M3wyYWCWG3iL"
      },
      "execution_count": null,
      "outputs": []
    },
    {
      "cell_type": "code",
      "source": [
        "class Queue:\n",
        "  def __init__(self):\n",
        "    self.queue=[]\n",
        "\n",
        "  def enqueue(self, dataval):\n",
        "    if dataval not in self.queue:\n",
        "      return self.queue.append(dataval)\n",
        "    else:\n",
        "      return False\n",
        "\n",
        "  def dequeue(self):\n",
        "    if len(self.queue)<1:\n",
        "      return \"Queue is empty\"\n",
        "    else:\n",
        "      return self.queue.pop()\n",
        "\n",
        "q=Queue()\n",
        "q.enqueue(20)\n",
        "q.enqueue(22)\n",
        "q.enqueue(25)\n",
        "\n",
        "print(q.queue)\n",
        "\n",
        "q.dequeue()\n",
        "print(q.queue)\n",
        "q.dequeue()\n",
        "print(q.queue)\n",
        "q.dequeue()\n",
        "print(q.queue)\n",
        "\n"
      ],
      "metadata": {
        "colab": {
          "base_uri": "https://localhost:8080/"
        },
        "id": "-mK3wn3En7xh",
        "outputId": "9a2e5f5b-bb3f-460d-d6ee-8bb605725fef"
      },
      "execution_count": 1,
      "outputs": [
        {
          "output_type": "stream",
          "name": "stdout",
          "text": [
            "[20, 22, 25]\n",
            "[20, 22]\n",
            "[20]\n",
            "[]\n"
          ]
        }
      ]
    }
  ]
}