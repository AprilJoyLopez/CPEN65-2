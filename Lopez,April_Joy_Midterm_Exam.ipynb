{
  "nbformat": 4,
  "nbformat_minor": 0,
  "metadata": {
    "colab": {
      "provenance": [],
      "authorship_tag": "ABX9TyMbRVeW0P3Vp4Uab9/BQuS2",
      "include_colab_link": true
    },
    "kernelspec": {
      "name": "python3",
      "display_name": "Python 3"
    },
    "language_info": {
      "name": "python"
    }
  },
  "cells": [
    {
      "cell_type": "markdown",
      "metadata": {
        "id": "view-in-github",
        "colab_type": "text"
      },
      "source": [
        "<a href=\"https://colab.research.google.com/github/AprilJoyLopez/CPEN65-2/blob/main/Lopez%2CApril_Joy_Midterm_Exam.ipynb\" target=\"_parent\"><img src=\"https://colab.research.google.com/assets/colab-badge.svg\" alt=\"Open In Colab\"/></a>"
      ]
    },
    {
      "cell_type": "markdown",
      "source": [
        "#####Number 1"
      ],
      "metadata": {
        "id": "3XYTKVAQBDt0"
      }
    },
    {
      "cell_type": "code",
      "source": [
        "integers = [10,20,30,40,50,60,70,80,90,100]\n",
        "print(\"Integers\")\n",
        "\n",
        "for index , val in enumerate(integers):\n",
        "  print(\"Array\", [index], val)\n",
        "\n",
        "ans = sum(integers)\n",
        "print(\"The sum of element is =\", ans)"
      ],
      "metadata": {
        "colab": {
          "base_uri": "https://localhost:8080/"
        },
        "id": "s5GwH1URA75G",
        "outputId": "eba154e2-439f-4a82-ba9e-aedae87aaaac"
      },
      "execution_count": 78,
      "outputs": [
        {
          "output_type": "stream",
          "name": "stdout",
          "text": [
            "Integers\n",
            "Array [0] 10\n",
            "Array [1] 20\n",
            "Array [2] 30\n",
            "Array [3] 40\n",
            "Array [4] 50\n",
            "Array [5] 60\n",
            "Array [6] 70\n",
            "Array [7] 80\n",
            "Array [8] 90\n",
            "Array [9] 100\n",
            "The sum of element is = 550\n"
          ]
        }
      ]
    },
    {
      "cell_type": "markdown",
      "source": [
        "#####Number 2"
      ],
      "metadata": {
        "id": "qLpc6isIAqXd"
      }
    },
    {
      "cell_type": "code",
      "execution_count": 66,
      "metadata": {
        "colab": {
          "base_uri": "https://localhost:8080/"
        },
        "id": "FmoNK4QX-elz",
        "outputId": "697db8ec-8b1f-431a-d812-c6c762e76c61"
      },
      "outputs": [
        {
          "output_type": "stream",
          "name": "stdout",
          "text": [
            "1,2,3,4,5,6,7,8,9,10\n",
            "1,2,3,4,5,6,7,8,9,10,20\n"
          ]
        }
      ],
      "source": [
        "numbers = [\"1\", \"2\", \"3\", \"4\", \"5\", \"6\", \"7\", \"8\", \"9\", \"10\"]\n",
        "a=\",\"\n",
        "print(a.join(numbers))\n",
        "\n",
        "numbers.append(20)\n",
        "print((*numbers),sep = \",\")"
      ]
    },
    {
      "cell_type": "markdown",
      "source": [
        "#####Number 3"
      ],
      "metadata": {
        "id": "6yIQYXE-Btyl"
      }
    },
    {
      "cell_type": "code",
      "source": [
        "numbers = [\"1\", \"2\", \"3\", \"4\", \"5\", \"6\", \"7\", \"8\", \"9\", \"10\"]\n",
        "a=\",\"\n",
        "print(a.join(numbers))\n",
        "\n",
        "numbers.insert(1,25)\n",
        "print((*numbers),sep = \",\")"
      ],
      "metadata": {
        "colab": {
          "base_uri": "https://localhost:8080/"
        },
        "id": "sD0Rtz9WBzLz",
        "outputId": "4d97699e-f3a6-4f4d-ac79-a594963d873a"
      },
      "execution_count": 65,
      "outputs": [
        {
          "output_type": "stream",
          "name": "stdout",
          "text": [
            "1,2,3,4,5,6,7,8,9,10\n",
            "1,25,2,3,4,5,6,7,8,9,10\n"
          ]
        }
      ]
    },
    {
      "cell_type": "markdown",
      "source": [
        "#####Number 4"
      ],
      "metadata": {
        "id": "SQMHRDbBCBOT"
      }
    },
    {
      "cell_type": "code",
      "source": [
        "numbers = [\"5\",\"4\",\"3\",\"2\",\"1\"]\n",
        "a =\",\"\n",
        "print(a.join(numbers))\n",
        "\n",
        "numbers.reverse()\n",
        "print(a.join(numbers))"
      ],
      "metadata": {
        "colab": {
          "base_uri": "https://localhost:8080/"
        },
        "id": "KFTrBxr4CDW7",
        "outputId": "bf4f3394-0088-454b-f336-222b2d15c865"
      },
      "execution_count": null,
      "outputs": [
        {
          "output_type": "stream",
          "name": "stdout",
          "text": [
            "5,4,3,2,1\n",
            "1,2,3,4,5\n"
          ]
        }
      ]
    },
    {
      "cell_type": "markdown",
      "source": [
        "#####Number 5"
      ],
      "metadata": {
        "id": "qR1hwz1TCLB6"
      }
    },
    {
      "cell_type": "code",
      "source": [
        "numbers = [\"5\",\"4\",\"3\",\"2\",\"1\"]\n",
        "len(numbers)\n",
        "print(len(numbers))"
      ],
      "metadata": {
        "colab": {
          "base_uri": "https://localhost:8080/"
        },
        "id": "fl002nLHCM3y",
        "outputId": "9746d05d-32eb-40eb-939d-0e855eb8571b"
      },
      "execution_count": null,
      "outputs": [
        {
          "output_type": "stream",
          "name": "stdout",
          "text": [
            "5\n"
          ]
        }
      ]
    }
  ]
}