{
  "nbformat": 4,
  "nbformat_minor": 0,
  "metadata": {
    "colab": {
      "provenance": [],
      "authorship_tag": "ABX9TyPaXd5Vp0eypzNtx78DB9ph",
      "include_colab_link": true
    },
    "kernelspec": {
      "name": "python3",
      "display_name": "Python 3"
    },
    "language_info": {
      "name": "python"
    }
  },
  "cells": [
    {
      "cell_type": "markdown",
      "metadata": {
        "id": "view-in-github",
        "colab_type": "text"
      },
      "source": [
        "<a href=\"https://colab.research.google.com/github/AprilJoyLopez/CPEN65-2/blob/main/ARRAY_ACT3.ipynb\" target=\"_parent\"><img src=\"https://colab.research.google.com/assets/colab-badge.svg\" alt=\"Open In Colab\"/></a>"
      ]
    },
    {
      "cell_type": "code",
      "source": [
        "#####Insert of each character of your full name and display each character of your full name in reverse order\n",
        "\n",
        "name=[\"A\", \"p\", \"r\", \"i\", \"l\", \"J\", \"o\", \"y\", \"L\", \"o\", \"p\", \"e\", \"z\"]\n",
        "a=\"-\"\n",
        "print(a.join(name))\n",
        "\n",
        "name.reverse()\n",
        "print(a.join(name))\n"
      ],
      "metadata": {
        "colab": {
          "base_uri": "https://localhost:8080/"
        },
        "id": "jicgmiL5wQC2",
        "outputId": "2148fa9f-1bd9-4c71-bf4a-a4d6d73b65bb"
      },
      "execution_count": 10,
      "outputs": [
        {
          "output_type": "stream",
          "name": "stdout",
          "text": [
            "A-p-r-i-l-J-o-y-L-o-p-e-z\n",
            "z-e-p-o-L-y-o-J-l-i-r-p-A\n"
          ]
        }
      ]
    }
  ]
}